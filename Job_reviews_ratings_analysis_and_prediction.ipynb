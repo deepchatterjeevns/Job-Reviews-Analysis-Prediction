{
 "cells": [
  {
   "cell_type": "code",
   "execution_count": 217,
   "metadata": {},
   "outputs": [],
   "source": [
    "import pandas as pd\n",
    "import numpy as np\n",
    "import math\n",
    "import matplotlib.pyplot as plt\n",
    "import seaborn as sns\n",
    "import datetime\n",
    "import warnings\n",
    "warnings.filterwarnings('ignore')"
   ]
  },
  {
   "cell_type": "markdown",
   "metadata": {},
   "source": [
    "# Outline\n",
    "1. Reading the Data\n",
    "2. Missing Values\n",
    "3. EDA\n",
    "4. Feature Engineering\n",
    "5. Model Building and Evaluation\n",
    "6. Stacking"
   ]
  },
  {
   "cell_type": "markdown",
   "metadata": {},
   "source": [
    "### 1. Reading the Data"
   ]
  },
  {
   "cell_type": "code",
   "execution_count": 218,
   "metadata": {},
   "outputs": [],
   "source": [
    "train = pd.read_csv('train.csv')\n",
    "test = pd.read_csv('test.csv', encoding= 'unicode_escape')\n",
    "\n",
    "train_b = train.copy()"
   ]
  },
  {
   "cell_type": "code",
   "execution_count": 219,
   "metadata": {},
   "outputs": [
    {
     "name": "stdout",
     "output_type": "stream",
     "text": [
      "Shape of Training Data :  (30363, 17)\n"
     ]
    },
    {
     "data": {
      "text/html": [
       "<div>\n",
       "<style scoped>\n",
       "    .dataframe tbody tr th:only-of-type {\n",
       "        vertical-align: middle;\n",
       "    }\n",
       "\n",
       "    .dataframe tbody tr th {\n",
       "        vertical-align: top;\n",
       "    }\n",
       "\n",
       "    .dataframe thead th {\n",
       "        text-align: right;\n",
       "    }\n",
       "</style>\n",
       "<table border=\"1\" class=\"dataframe\">\n",
       "  <thead>\n",
       "    <tr style=\"text-align: right;\">\n",
       "      <th></th>\n",
       "      <th>ID</th>\n",
       "      <th>Place</th>\n",
       "      <th>location</th>\n",
       "      <th>date</th>\n",
       "      <th>status</th>\n",
       "      <th>job_title</th>\n",
       "      <th>summary</th>\n",
       "      <th>positives</th>\n",
       "      <th>negatives</th>\n",
       "      <th>advice_to_mgmt</th>\n",
       "      <th>overall</th>\n",
       "      <th>score_1</th>\n",
       "      <th>score_2</th>\n",
       "      <th>score_3</th>\n",
       "      <th>score_4</th>\n",
       "      <th>score_5</th>\n",
       "      <th>score_6</th>\n",
       "    </tr>\n",
       "  </thead>\n",
       "  <tbody>\n",
       "    <tr>\n",
       "      <th>0</th>\n",
       "      <td>1</td>\n",
       "      <td>startup_1</td>\n",
       "      <td>NaN</td>\n",
       "      <td>Dec 11, 2018</td>\n",
       "      <td>Current Employee</td>\n",
       "      <td>Anonymous Employee</td>\n",
       "      <td>Best Company to work for</td>\n",
       "      <td>People are smart and friendly</td>\n",
       "      <td>Bureaucracy is slowing things down</td>\n",
       "      <td>NaN</td>\n",
       "      <td>5.0</td>\n",
       "      <td>4.0</td>\n",
       "      <td>5.0</td>\n",
       "      <td>5.0</td>\n",
       "      <td>4.0</td>\n",
       "      <td>5.0</td>\n",
       "      <td>0</td>\n",
       "    </tr>\n",
       "    <tr>\n",
       "      <th>1</th>\n",
       "      <td>5</td>\n",
       "      <td>startup_1</td>\n",
       "      <td>Los Angeles, CA</td>\n",
       "      <td>Jul 19, 2018</td>\n",
       "      <td>Former Employee</td>\n",
       "      <td>Software Engineer</td>\n",
       "      <td>Unique, one of a kind dream job</td>\n",
       "      <td>Google is a world of its own. At every other c...</td>\n",
       "      <td>If you don't work in MTV (HQ), you will be giv...</td>\n",
       "      <td>Promote managers into management for their man...</td>\n",
       "      <td>5.0</td>\n",
       "      <td>5.0</td>\n",
       "      <td>5.0</td>\n",
       "      <td>5.0</td>\n",
       "      <td>5.0</td>\n",
       "      <td>5.0</td>\n",
       "      <td>49</td>\n",
       "    </tr>\n",
       "    <tr>\n",
       "      <th>2</th>\n",
       "      <td>9</td>\n",
       "      <td>startup_1</td>\n",
       "      <td>New York, NY</td>\n",
       "      <td>Dec 10, 2018</td>\n",
       "      <td>Current Employee</td>\n",
       "      <td>Anonymous Employee</td>\n",
       "      <td>Google Surpasses Realistic Expectations</td>\n",
       "      <td>Great products. Vision you can feel good about...</td>\n",
       "      <td>Younger employees complaining about the compan...</td>\n",
       "      <td>NaN</td>\n",
       "      <td>5.0</td>\n",
       "      <td>5.0</td>\n",
       "      <td>5.0</td>\n",
       "      <td>5.0</td>\n",
       "      <td>5.0</td>\n",
       "      <td>5.0</td>\n",
       "      <td>0</td>\n",
       "    </tr>\n",
       "    <tr>\n",
       "      <th>3</th>\n",
       "      <td>16</td>\n",
       "      <td>startup_1</td>\n",
       "      <td>NaN</td>\n",
       "      <td>Dec 6, 2018</td>\n",
       "      <td>Current Employee</td>\n",
       "      <td>Anonymous Employee</td>\n",
       "      <td>Review</td>\n",
       "      <td>The people are great to work with</td>\n",
       "      <td>There is lower compensation than expected</td>\n",
       "      <td>NaN</td>\n",
       "      <td>5.0</td>\n",
       "      <td>NaN</td>\n",
       "      <td>NaN</td>\n",
       "      <td>NaN</td>\n",
       "      <td>NaN</td>\n",
       "      <td>NaN</td>\n",
       "      <td>0</td>\n",
       "    </tr>\n",
       "    <tr>\n",
       "      <th>4</th>\n",
       "      <td>17</td>\n",
       "      <td>startup_1</td>\n",
       "      <td>NaN</td>\n",
       "      <td>Nov 29, 2018</td>\n",
       "      <td>Current Employee</td>\n",
       "      <td>Anonymous Employee</td>\n",
       "      <td>Review of Google</td>\n",
       "      <td>The people are great to work with, good perks.</td>\n",
       "      <td>Wide variety in experience based on team.</td>\n",
       "      <td>NaN</td>\n",
       "      <td>5.0</td>\n",
       "      <td>4.0</td>\n",
       "      <td>5.0</td>\n",
       "      <td>5.0</td>\n",
       "      <td>5.0</td>\n",
       "      <td>4.0</td>\n",
       "      <td>2</td>\n",
       "    </tr>\n",
       "  </tbody>\n",
       "</table>\n",
       "</div>"
      ],
      "text/plain": [
       "   ID      Place         location           date             status  \\\n",
       "0   1  startup_1              NaN   Dec 11, 2018  Current Employee    \n",
       "1   5  startup_1  Los Angeles, CA   Jul 19, 2018   Former Employee    \n",
       "2   9  startup_1     New York, NY   Dec 10, 2018  Current Employee    \n",
       "3  16  startup_1              NaN    Dec 6, 2018  Current Employee    \n",
       "4  17  startup_1              NaN   Nov 29, 2018  Current Employee    \n",
       "\n",
       "             job_title                                  summary  \\\n",
       "0   Anonymous Employee                 Best Company to work for   \n",
       "1    Software Engineer          Unique, one of a kind dream job   \n",
       "2   Anonymous Employee  Google Surpasses Realistic Expectations   \n",
       "3   Anonymous Employee                                   Review   \n",
       "4   Anonymous Employee                         Review of Google   \n",
       "\n",
       "                                           positives  \\\n",
       "0                      People are smart and friendly   \n",
       "1  Google is a world of its own. At every other c...   \n",
       "2  Great products. Vision you can feel good about...   \n",
       "3                  The people are great to work with   \n",
       "4     The people are great to work with, good perks.   \n",
       "\n",
       "                                           negatives  \\\n",
       "0                 Bureaucracy is slowing things down   \n",
       "1  If you don't work in MTV (HQ), you will be giv...   \n",
       "2  Younger employees complaining about the compan...   \n",
       "3          There is lower compensation than expected   \n",
       "4          Wide variety in experience based on team.   \n",
       "\n",
       "                                      advice_to_mgmt  overall  score_1  \\\n",
       "0                                                NaN      5.0      4.0   \n",
       "1  Promote managers into management for their man...      5.0      5.0   \n",
       "2                                                NaN      5.0      5.0   \n",
       "3                                                NaN      5.0      NaN   \n",
       "4                                                NaN      5.0      4.0   \n",
       "\n",
       "   score_2  score_3  score_4  score_5  score_6  \n",
       "0      5.0      5.0      4.0      5.0        0  \n",
       "1      5.0      5.0      5.0      5.0       49  \n",
       "2      5.0      5.0      5.0      5.0        0  \n",
       "3      NaN      NaN      NaN      NaN        0  \n",
       "4      5.0      5.0      5.0      4.0        2  "
      ]
     },
     "execution_count": 219,
     "metadata": {},
     "output_type": "execute_result"
    }
   ],
   "source": [
    "print('Shape of Training Data : ',train.shape)\n",
    "train.head(5)"
   ]
  },
  {
   "cell_type": "markdown",
   "metadata": {},
   "source": [
    "### Metadata\n",
    "1. \"ID\" - Identification Number\n",
    "2. \"Place\" - Startups (1 to 6)\n",
    "3. \"location\" - Location of Startup\n",
    "4. \"Date\" - Date of review\n",
    "5. \"Status\" - Current status of reviewer with the startup\n",
    "6. \"job_titl\" - Position of work at athe startup\n",
    "7. \"summary\" - Overall summary\n",
    "8. \"positives\" - pros\n",
    "9. \"negatives\" - Cons\n",
    "10. \"advice_to_mgmt\" - Comments given by the reviewer to the management\n",
    "11. \"overall\" - Overall rating provided by the reviewer\n",
    "12. \"score_1\" to \"score_5\" - Intricate rating which reflects the condition of work at the startup (1-5)\n",
    "13. 'score_6' - Number of likes received by the reviewer of the review"
   ]
  },
  {
   "cell_type": "markdown",
   "metadata": {},
   "source": [
    "### 2. Missing values"
   ]
  },
  {
   "cell_type": "code",
   "execution_count": 220,
   "metadata": {},
   "outputs": [
    {
     "name": "stdout",
     "output_type": "stream",
     "text": [
      "11231  or  0.3699  % Missing values in  location\n",
      "63    or  0.0021 % Missing values in  summary\n",
      "1    or  0.0 % Missing values in  negatives\n",
      "13209  or  0.435  % Missing values in  advice_to_mgmt\n",
      "3190  or  0.1051  % Missing values in  score_1\n",
      "6053  or  0.1994  % Missing values in  score_2\n",
      "3165  or  0.1042  % Missing values in  score_3\n",
      "3199  or  0.1054  % Missing values in  score_4\n",
      "3460  or  0.114  % Missing values in  score_5\n"
     ]
    },
    {
     "data": {
      "text/plain": [
       "(array([ 0.5,  1.5,  2.5,  3.5,  4.5,  5.5,  6.5,  7.5,  8.5,  9.5, 10.5,\n",
       "        11.5, 12.5, 13.5, 14.5, 15.5, 16.5]),\n",
       " <a list of 17 Text xticklabel objects>)"
      ]
     },
     "execution_count": 220,
     "metadata": {},
     "output_type": "execute_result"
    },
    {
     "data": {
      "image/png": "[encoded data removed]",
      "text/plain": [
       "<Figure size 1440x360 with 2 Axes>"
      ]
     },
     "metadata": {},
     "output_type": "display_data"
    }
   ],
   "source": [
    "# Check for missing values\n",
    "count = 0\n",
    "for i in train.columns:\n",
    "    if train.isnull().sum()[i] > 0:\n",
    "        if train.isnull().sum()[i] < 1000:\n",
    "            print(train.isnull().sum()[count],'   or ',round((train.isnull().sum()[i])/(train.shape[0]),4),'%','Missing values in ',train.columns[count])\n",
    "        else:\n",
    "            print(train.isnull().sum()[count],' or ',round((train.isnull().sum()[i])/(train.shape[0]),4),' %','Missing values in ',train.columns[count])\n",
    "        \n",
    "    count += 1\n",
    "        \n",
    "fig, ax = plt.subplots(figsize=(20,5))\n",
    "sns.set(font_scale=2)\n",
    "plt.title('Missing Values', fontsize=22)\n",
    "sns.heatmap(train.isnull(), cmap=\"Blues\", yticklabels=False, ax=ax)\n",
    "plt.xticks(rotation = 30)"
   ]
  },
  {
   "cell_type": "code",
   "execution_count": 221,
   "metadata": {},
   "outputs": [
    {
     "data": {
      "text/html": [
       "<div>\n",
       "<style scoped>\n",
       "    .dataframe tbody tr th:only-of-type {\n",
       "        vertical-align: middle;\n",
       "    }\n",
       "\n",
       "    .dataframe tbody tr th {\n",
       "        vertical-align: top;\n",
       "    }\n",
       "\n",
       "    .dataframe thead th {\n",
       "        text-align: right;\n",
       "    }\n",
       "</style>\n",
       "<table border=\"1\" class=\"dataframe\">\n",
       "  <thead>\n",
       "    <tr style=\"text-align: right;\">\n",
       "      <th></th>\n",
       "      <th>ID</th>\n",
       "      <th>overall</th>\n",
       "      <th>score_1</th>\n",
       "      <th>score_2</th>\n",
       "      <th>score_3</th>\n",
       "      <th>score_4</th>\n",
       "      <th>score_5</th>\n",
       "      <th>score_6</th>\n",
       "    </tr>\n",
       "  </thead>\n",
       "  <tbody>\n",
       "    <tr>\n",
       "      <th>count</th>\n",
       "      <td>30363.000000</td>\n",
       "      <td>30363.000000</td>\n",
       "      <td>27173.000000</td>\n",
       "      <td>24310.000000</td>\n",
       "      <td>27198.000000</td>\n",
       "      <td>27164.000000</td>\n",
       "      <td>26903.000000</td>\n",
       "      <td>30363.000000</td>\n",
       "    </tr>\n",
       "    <tr>\n",
       "      <th>mean</th>\n",
       "      <td>33779.227382</td>\n",
       "      <td>3.824754</td>\n",
       "      <td>3.372263</td>\n",
       "      <td>3.776800</td>\n",
       "      <td>3.631609</td>\n",
       "      <td>3.936994</td>\n",
       "      <td>3.322269</td>\n",
       "      <td>1.087607</td>\n",
       "    </tr>\n",
       "    <tr>\n",
       "      <th>std</th>\n",
       "      <td>19491.487518</td>\n",
       "      <td>1.155155</td>\n",
       "      <td>1.301732</td>\n",
       "      <td>1.296621</td>\n",
       "      <td>1.228599</td>\n",
       "      <td>1.047924</td>\n",
       "      <td>1.312911</td>\n",
       "      <td>4.920717</td>\n",
       "    </tr>\n",
       "    <tr>\n",
       "      <th>min</th>\n",
       "      <td>1.000000</td>\n",
       "      <td>1.000000</td>\n",
       "      <td>1.000000</td>\n",
       "      <td>1.000000</td>\n",
       "      <td>1.000000</td>\n",
       "      <td>1.000000</td>\n",
       "      <td>1.000000</td>\n",
       "      <td>0.000000</td>\n",
       "    </tr>\n",
       "    <tr>\n",
       "      <th>25%</th>\n",
       "      <td>16889.500000</td>\n",
       "      <td>3.000000</td>\n",
       "      <td>2.000000</td>\n",
       "      <td>3.000000</td>\n",
       "      <td>3.000000</td>\n",
       "      <td>3.000000</td>\n",
       "      <td>2.000000</td>\n",
       "      <td>0.000000</td>\n",
       "    </tr>\n",
       "    <tr>\n",
       "      <th>50%</th>\n",
       "      <td>33889.000000</td>\n",
       "      <td>4.000000</td>\n",
       "      <td>3.500000</td>\n",
       "      <td>4.000000</td>\n",
       "      <td>4.000000</td>\n",
       "      <td>4.000000</td>\n",
       "      <td>3.000000</td>\n",
       "      <td>0.000000</td>\n",
       "    </tr>\n",
       "    <tr>\n",
       "      <th>75%</th>\n",
       "      <td>50628.000000</td>\n",
       "      <td>5.000000</td>\n",
       "      <td>4.000000</td>\n",
       "      <td>5.000000</td>\n",
       "      <td>5.000000</td>\n",
       "      <td>5.000000</td>\n",
       "      <td>4.000000</td>\n",
       "      <td>1.000000</td>\n",
       "    </tr>\n",
       "    <tr>\n",
       "      <th>max</th>\n",
       "      <td>67529.000000</td>\n",
       "      <td>5.000000</td>\n",
       "      <td>5.000000</td>\n",
       "      <td>5.000000</td>\n",
       "      <td>5.000000</td>\n",
       "      <td>5.000000</td>\n",
       "      <td>5.000000</td>\n",
       "      <td>449.000000</td>\n",
       "    </tr>\n",
       "  </tbody>\n",
       "</table>\n",
       "</div>"
      ],
      "text/plain": [
       "                 ID       overall       score_1       score_2       score_3  \\\n",
       "count  30363.000000  30363.000000  27173.000000  24310.000000  27198.000000   \n",
       "mean   33779.227382      3.824754      3.372263      3.776800      3.631609   \n",
       "std    19491.487518      1.155155      1.301732      1.296621      1.228599   \n",
       "min        1.000000      1.000000      1.000000      1.000000      1.000000   \n",
       "25%    16889.500000      3.000000      2.000000      3.000000      3.000000   \n",
       "50%    33889.000000      4.000000      3.500000      4.000000      4.000000   \n",
       "75%    50628.000000      5.000000      4.000000      5.000000      5.000000   \n",
       "max    67529.000000      5.000000      5.000000      5.000000      5.000000   \n",
       "\n",
       "            score_4       score_5       score_6  \n",
       "count  27164.000000  26903.000000  30363.000000  \n",
       "mean       3.936994      3.322269      1.087607  \n",
       "std        1.047924      1.312911      4.920717  \n",
       "min        1.000000      1.000000      0.000000  \n",
       "25%        3.000000      2.000000      0.000000  \n",
       "50%        4.000000      3.000000      0.000000  \n",
       "75%        5.000000      4.000000      1.000000  \n",
       "max        5.000000      5.000000    449.000000  "
      ]
     },
     "execution_count": 221,
     "metadata": {},
     "output_type": "execute_result"
    }
   ],
   "source": [
    "# Distribution of numerical columns\n",
    "train.describe()"
   ]
  },
  {
   "cell_type": "markdown",
   "metadata": {},
   "source": [
    "### 3. EDA\n",
    "\n",
    "1. Ex-emplyees may rate low compared to present employees. Verify!\n",
    "2. What are the most common word used by reviewer while writing summary, positives, negatives, advice_to_mgmt."
   ]
  },
  {
   "cell_type": "code",
   "execution_count": 222,
   "metadata": {},
   "outputs": [
    {
     "data": {
      "text/plain": [
       "(array([-1000.,     0.,  1000.,  2000.,  3000.]),\n",
       " <a list of 5 Text yticklabel objects>)"
      ]
     },
     "execution_count": 222,
     "metadata": {},
     "output_type": "execute_result"
    },
    {
     "data": {
      "image/png": "[encoded data removed]",
      "text/plain": [
       "<Figure size 1008x288 with 1 Axes>"
      ]
     },
     "metadata": {},
     "output_type": "display_data"
    }
   ],
   "source": [
    "plt_df = pd.DataFrame({'place':train.groupby('Place')['job_title'].nunique().index,\n",
    "                      'jobs':train.groupby('Place')['job_title'].nunique().values,\n",
    "                      'locations':train.groupby('Place')['location'].nunique().values})\n",
    "plt.figure(figsize=(14,4))\n",
    "plt.plot(plt_df.place,plt_df.jobs,label='Unique jobs')\n",
    "plt.plot(plt_df.place,plt_df.locations,label='No. of locations')\n",
    "plt.xlabel('Startups',fontsize = 15)\n",
    "plt.ylabel('Number of jobs/ Location',fontsize = 15)\n",
    "plt.legend(fontsize=18)\n",
    "plt.xticks(fontsize=14)\n",
    "plt.yticks(fontsize=14)"
   ]
  },
  {
   "cell_type": "code",
   "execution_count": 223,
   "metadata": {},
   "outputs": [
    {
     "data": {
      "text/plain": [
       "Text(0.5, 1.0, 'Overall vs Score_1 to score_6')"
      ]
     },
     "execution_count": 223,
     "metadata": {},
     "output_type": "execute_result"
    },
    {
     "data": {
      "image/png": "[encoded data removed]",
      "text/plain": [
       "<Figure size 1080x360 with 1 Axes>"
      ]
     },
     "metadata": {},
     "output_type": "display_data"
    }
   ],
   "source": [
    "# Relation between overall & scores_1-scores_5\n",
    "plt_df2 = train.dropna().copy()\n",
    "plt_df2['mean_score'] = (plt_df2['score_1']+plt_df2['score_2']+plt_df2['score_3']+plt_df2['score_4']+plt_df2['score_5'])/5\n",
    "plt.figure(figsize = (15,5))\n",
    "plt.plot(plt_df2.reset_index().index,(plt_df2.overall-plt_df2.mean_score),label='Overall Score - Mean (score_1-6)')\n",
    "plt.ylim(-5,5)\n",
    "plt.hlines(plt_df2.overall.mean(),0,10000,label = 'Overall Mean',color='red')\n",
    "plt.hlines(plt_df2.mean_score.mean(),0,10000,label = 'Mean of Mean of Score_1-5',color='yellow')\n",
    "plt.legend(fontsize=12)\n",
    "plt.xlabel('Records',fontsize = 15)\n",
    "plt.title('Overall vs Score_1 to score_6', fontsize = 20)"
   ]
  },
  {
   "cell_type": "code",
   "execution_count": 224,
   "metadata": {},
   "outputs": [
    {
     "ename": "SyntaxError",
     "evalue": "invalid syntax (<ipython-input-224-81f1c9e3323b>, line 5)",
     "output_type": "error",
     "traceback": [
      "\u001b[1;36m  File \u001b[1;32m\"<ipython-input-224-81f1c9e3323b>\"\u001b[1;36m, line \u001b[1;32m5\u001b[0m\n\u001b[1;33m    plt.title('rating distribution by employee's job status',fontsize=15)\u001b[0m\n\u001b[1;37m                                               ^\u001b[0m\n\u001b[1;31mSyntaxError\u001b[0m\u001b[1;31m:\u001b[0m invalid syntax\n"
     ]
    }
   ],
   "source": [
    "# Overall rating distribution by employee status\n",
    "train.groupby('status')['overall'].value_counts(normalize=True).mul(100).unstack().plot.bar(stacked=True,figsize = (16,6))\n",
    "plt.xticks(rotation = 0)\n",
    "plt.ylabel('% of Rating',fontsize=12)\n",
    "plt.title('rating distribution by employee's job status',fontsize=15)\n",
    "plt.xlabel('Status',fontsize=12)"
   ]
  },
  {
   "cell_type": "code",
   "execution_count": null,
   "metadata": {},
   "outputs": [],
   "source": [
    "# Extract text from summary, positives, negatives, advice_to_mgmt to plot wordcloud \n",
    "stopwords = set(STOPWORDS) \n",
    "def get_text(df):\n",
    "    all_words = ''\n",
    "    for val in df:\n",
    "        val = str(val) \n",
    "\n",
    "        # split the text \n",
    "        tokens = val.split() \n",
    "\n",
    "        # Converts to lowercase \n",
    "        for i in range(len(tokens)): \n",
    "            tokens[i] = tokens[i].lower() \n",
    "\n",
    "        all_words += \" \".join(tokens)+\" \"\n",
    "    return all_words\n",
    "  \n",
    "text_summary = get_text(train.summary)\n",
    "text_positives = get_text(train.positives)\n",
    "text_negatives = get_text(train.negatives)\n",
    "text_advice = get_text(train.advice_to_mgmt.dropna())"
   ]
  },
  {
   "cell_type": "code",
   "execution_count": null,
   "metadata": {},
   "outputs": [],
   "source": [
    "# Most common words in Summary\n",
    "wordcloud = WordCloud(width = 1800, height = 600, collocations=False, background_color ='white', \n",
    "                stopwords = stopwords, min_font_size = 10).generate(text_summary) \n",
    "  \n",
    "# plot the WordCloud image                    \n",
    "plt.figure(figsize = (14, 6), facecolor = None) \n",
    "plt.imshow(wordcloud)\n",
    "plt.title('Most commom words in summary')\n",
    "plt.axis(\"off\") \n",
    "plt.tight_layout(pad = 0) \n",
    "plt.show()"
   ]
  },
  {
   "cell_type": "code",
   "execution_count": null,
   "metadata": {},
   "outputs": [],
   "source": [
    "# Most common words in Summary\n",
    "fig, (ax1, ax2) = plt.subplots(1, 2, figsize = (18,6))\n",
    "\n",
    "wordcloud_positives = WordCloud(width = 850, height = 600, collocations=False, background_color ='white', \n",
    "                stopwords = stopwords, min_font_size = 10).generate(text_positives) \n",
    "wordcloud_negatives= WordCloud(width = 850, height = 600, collocations=False, background_color ='white', \n",
    "                stopwords = stopwords, min_font_size = 10).generate(text_negatives)\n",
    "  \n",
    "# plot the WordCloud image         \n",
    "ax1.imshow(wordcloud_positives) \n",
    "ax2.imshow(wordcloud_negatives)\n",
    "ax1.set_title('Positive reviwes')\n",
    "ax2.set_title('Negative reviwes')\n",
    "ax1.axis(\"off\")\n",
    "ax2.axis(\"off\")\n",
    "plt.show()"
   ]
  },
  {
   "cell_type": "code",
   "execution_count": null,
   "metadata": {},
   "outputs": [],
   "source": [
    "# Most common words in advice_to_mgmt\n",
    "wordcloud = WordCloud(width = 1800, height = 600, collocations=False, background_color ='white', \n",
    "                stopwords = stopwords, min_font_size = 10).generate(text_advice) \n",
    "  \n",
    "# plot the WordCloud image                    \n",
    "plt.figure(figsize = (14, 6), facecolor = None)\n",
    "plt.imshow(wordcloud)\n",
    "plt.title('Most commom words in summary')\n",
    "plt.axis(\"off\")\n",
    "plt.tight_layout(pad = 0)\n",
    "plt.show()"
   ]
  },
  {
   "cell_type": "code",
   "execution_count": null,
   "metadata": {},
   "outputs": [],
   "source": [
    "# Overall rating distribution by employee status\n",
    "train.groupby('Place')['overall'].value_counts(normalize=True).mul(100).unstack().plot.bar(stacked=True,figsize = (16,6))\n",
    "plt.xticks(rotation = 0)\n",
    "plt.ylabel('% of Rating',fontsize=12)\n",
    "plt.title('rating distribution by Startups',fontsize=15)\n",
    "plt.xlabel('Startups',fontsize=12)"
   ]
  },
  {
   "cell_type": "markdown",
   "metadata": {},
   "source": [
    "## Key-Takeaways from EDA\n",
    "1. startup_5 has the best overall rating compared to other startups, whereas startup_4 has most number of unique job roles and locations.\n",
    "2. The Mean of Score_1 to score_5 is close to overall score & in majority cases, they are within 1 start range from each other.\n",
    "3. Our assumption was right, Ex-employees tend to rate lower as compared to current employees.\n",
    "4. Most of the negatives feedback & advice to management reviews contain words like time, work, pay, management which gives us a lot of idea about where the problem lies."
   ]
  },
  {
   "cell_type": "markdown",
   "metadata": {},
   "source": [
    "## Feature Engineering"
   ]
  },
  {
   "cell_type": "code",
   "execution_count": null,
   "metadata": {},
   "outputs": [],
   "source": [
    "# Location - missing values imputation\n",
    "train2 = train.copy()\n",
    "\n",
    "def treat_location(df):\n",
    "    df.location = df.location.fillna('NA(NA')\n",
    "    \n",
    "    # Separate Country from location\n",
    "    df['country'] = np.nan\n",
    "    df.country = df.location.apply(lambda x : x.split('(')[1].strip().split(')')[0] if len(x.split('(')) > 1 else ('usa' if  '(' not in x else 'NA'))\n",
    "    \n",
    "    df.location = df.location.apply(lambda x : x.split('(')[0].strip() if ('(') in x else x)\n",
    "    return df\n",
    "\n",
    "train = treat_location(train)\n",
    "test = treat_location(test)"
   ]
  },
  {
   "cell_type": "code",
   "execution_count": null,
   "metadata": {
    "scrolled": true
   },
   "outputs": [],
   "source": [
    "# extract and encode countries\n",
    "\n",
    "# all countries present in training and testing data\n",
    "all_countries = []\n",
    "for i in range(train.shape[0]):\n",
    "    if train.country[i] not in all_countries:\n",
    "        all_countries.append(train.country[i])\n",
    "        \n",
    "for i in range(test.shape[0]):\n",
    "    if test.country[i] not in all_countries:\n",
    "        all_countries.append(test.country[i])\n",
    "        \n",
    "le_countries = LabelEncoder().fit(all_countries)\n",
    "train.country = le_countries.transform(train.country)\n",
    "test.country = le_countries.transform(test.country)"
   ]
  },
  {
   "cell_type": "code",
   "execution_count": null,
   "metadata": {
    "scrolled": true
   },
   "outputs": [],
   "source": [
    "# extract and encode locations\n",
    "\n",
    "# all City/Town present in training and testing data\n",
    "all_locations = []\n",
    "for i in range(train.shape[0]):\n",
    "    if train.location[i] not in all_locations:\n",
    "        all_locations.append(train.location[i])\n",
    "        \n",
    "for i in range(test.shape[0]):\n",
    "    if test.location[i] not in all_locations:\n",
    "        all_locations.append(test.location[i])\n",
    "        \n",
    "le_locations = LabelEncoder().fit(all_locations)\n",
    "train.location = le_locations.transform(train.location)\n",
    "test.location = le_locations.transform(test.location)"
   ]
  },
  {
   "cell_type": "code",
   "execution_count": null,
   "metadata": {},
   "outputs": [],
   "source": [
    "# Encode Place (Startup's)\n",
    "le_place = LabelEncoder().fit(train.Place.unique())\n",
    "train.Place = le_place.transform(train.Place)\n",
    "test.Place = le_place.transform(test.Place)"
   ]
  },
  {
   "cell_type": "code",
   "execution_count": null,
   "metadata": {},
   "outputs": [],
   "source": [
    "# encode status (Current/Former employee)\n",
    "train.status = train.status.apply(lambda x : 1 if x == 'Current Employee ' else 0)\n",
    "test.status = test.status.apply(lambda x : 1 if x == 'Current Employee ' else 0)"
   ]
  },
  {
   "cell_type": "code",
   "execution_count": null,
   "metadata": {
    "scrolled": true
   },
   "outputs": [],
   "source": [
    "# encode job titles\n",
    "all_job_title = []\n",
    "for i in range(train.shape[0]):\n",
    "    if train.job_title[i] not in all_job_title:\n",
    "        all_job_title.append(train.job_title[i])\n",
    "        \n",
    "for i in range(test.shape[0]):\n",
    "    if test.job_title[i] not in all_job_title:\n",
    "        all_job_title.append(test.job_title[i])\n",
    "        \n",
    "le_job_title = LabelEncoder().fit(all_job_title)\n",
    "train.job_title = le_job_title.transform(train.job_title)\n",
    "test.job_title = le_job_title.transform(test.job_title)"
   ]
  },
  {
   "cell_type": "code",
   "execution_count": null,
   "metadata": {
    "scrolled": true
   },
   "outputs": [],
   "source": [
    "# Extract year, month, day from Date\n",
    "train['year'] = train['date'].apply(lambda x : int(x.split(' ')[3]))\n",
    "train['month'] = train['date'].apply(lambda x : (x.split(' ')[1]))\n",
    "train['day'] = train['date'].apply(lambda x : int(x.split(' ')[2].split(',')[0]))\n",
    "\n",
    "# remove invalid values (0)\n",
    "train['day'] = train['day'].apply(lambda x : int(train.day.mean()) if x == 0 else x)\n",
    "train['year'] = train['year'].apply(lambda x : int(train.year.mean()) if x == 0 else x)\n",
    "\n",
    "train.drop('date', axis=1, inplace = True)\n",
    "\n",
    "\n",
    "test['date'] = test['date'].apply(lambda x : ' Dec 10, 2018' if x == 'None' else x)\n",
    "test['year'] = test['date'].apply(lambda x : int(x.split(' ')[3]))\n",
    "test['month'] = test['date'].apply(lambda x : (x.split(' ')[1]))\n",
    "test['day'] = test['date'].apply(lambda x : int(x.split(' ')[2].split(',')[0]))\n",
    "\n",
    "# remove invalid values (0)\n",
    "test['day'] = test['day'].apply(lambda x : int(test.day.mean()) if x == 0 else x)\n",
    "test['year'] = test['year'].apply(lambda x : int(test.year.mean()) if x == 0 else x)\n",
    "train['month'] = pd.to_datetime(train['month'], format = '%b').dt.month\n",
    "\n",
    "test.drop('date', axis=1, inplace = True)"
   ]
  },
  {
   "cell_type": "code",
   "execution_count": null,
   "metadata": {},
   "outputs": [],
   "source": [
    "# Impute missing values in scores (1-5) using 'overall', because of high correlation between them\n",
    "cols = ['score_1','score_2','score_3','score_4','score_5']\n",
    "for i in range(len(cols)):\n",
    "    for j in range(train.shape[0]):\n",
    "        if math.isnan(train[cols[i]][j]):\n",
    "            train[cols[i]][j] = train.overall[j]"
   ]
  },
  {
   "cell_type": "code",
   "execution_count": null,
   "metadata": {},
   "outputs": [],
   "source": [
    "# Fill missing values in summary and negatives column\n",
    "def fill_na(df):\n",
    "    df.summary.fillna('not available', inplace = True)\n",
    "    df.negatives.fillna('not available', inplace = True)\n",
    "    return df\n",
    "train = fill_na(train)\n",
    "test = fill_na(test)"
   ]
  },
  {
   "cell_type": "code",
   "execution_count": null,
   "metadata": {},
   "outputs": [],
   "source": [
    "# Remove 'advice_to_mgmt' because of too many missing values\n",
    "train.drop('advice_to_mgmt',axis=1,inplace = True)\n",
    "test.drop('advice_to_mgmt',axis=1,inplace = True)"
   ]
  },
  {
   "cell_type": "markdown",
   "metadata": {},
   "source": [
    "### Convert text columns into vectors"
   ]
  },
  {
   "cell_type": "code",
   "execution_count": null,
   "metadata": {},
   "outputs": [],
   "source": [
    "from gensim.models import Word2Vec\n",
    "import re\n",
    "\n",
    "from nltk.corpus import stopwords\n",
    "import nltk\n",
    "from string import punctuation"
   ]
  },
  {
   "cell_type": "code",
   "execution_count": 39,
   "metadata": {},
   "outputs": [],
   "source": [
    "# vectorize summary, positives and negatives column using word2vec\n",
    "def get_vectors(df):\n",
    "    cols = ['summary','positives','negatives']\n",
    "    for c in cols:\n",
    "        # define stopwords\n",
    "        custom_set_of_stopwords = set(stopwords.words('english')+list(punctuation))\n",
    "        clean_txt = []\n",
    "        for w in range(len(df[c])):\n",
    "            desc = df[c][w].lower()\n",
    "\n",
    "            #remove punctuation\n",
    "            desc = re.sub('[^a-zA-Z]', ' ', desc)\n",
    "\n",
    "            #remove tags\n",
    "            desc=re.sub(\"&lt;/?.*?&gt;\",\" &lt;&gt; \",desc)\n",
    "\n",
    "            #remove special chars, digits\n",
    "            desc=re.sub(\"(\\\\d|\\\\W)+\",\" \",desc)\n",
    "            clean_txt.append(desc)\n",
    "        df['cleaned'] = clean_txt\n",
    "\n",
    "        # prepare word corpus\n",
    "        corpus = []\n",
    "        for col in df.cleaned:\n",
    "            word_list = col.split(\" \")\n",
    "            corpus.append(word_list)\n",
    "\n",
    "        for i in range(len(corpus)):\n",
    "            corpus[i] = [x for x in corpus[i] if x not in custom_set_of_stopwords]\n",
    "\n",
    "        #generate vectors\n",
    "        model = Word2Vec(corpus, min_count=1, size = 30)\n",
    "\n",
    "        # get vectors for each word in a field and average them\n",
    "        embeds = []\n",
    "        for i in range(df.shape[0]):\n",
    "            divider = 0\n",
    "            summer = np.zeros(30)\n",
    "            tester = np.zeros(30)\n",
    "            for j in range(len(df.iloc[i,-1].split(' '))):\n",
    "                w_f = df.iloc[i,-1].split(' ')[j]\n",
    "                if (len(w_f) > 2) & (w_f not in custom_set_of_stopwords):   \n",
    "                    divider +=1\n",
    "                    summer = np.add(model[df.iloc[i,-1].split(' ')[j]],summer)\n",
    "            all_zero_flag = 0 \n",
    "            for i in range(len(summer)):\n",
    "                if summer[i] == 0:\n",
    "                    all_zero_flag += 1\n",
    "\n",
    "            if all_zero_flag == 0:\n",
    "                embeds.append(summer/divider)\n",
    "            else:\n",
    "                embeds.append(summer)\n",
    "\n",
    "        t_embeds = embeds.copy()\n",
    "        \n",
    "        # define vectors for summary, positives & negatives\n",
    "        if c == 'summary':\n",
    "            df_embeds = pd.DataFrame(t_embeds, columns = ['v1','v2','v3','v4','v5','v6','v7','v8','v9','v10','v11','v12','v13',\n",
    "                                                          'v14','v15','v16','v17','v18','v19','v20','v21','v22','v23','v24',\n",
    "                                                          'v25','v26','v27','v28','v29','v30'])\n",
    "        elif c == 'positives':\n",
    "            df_embeds = pd.DataFrame(t_embeds, columns = ['v1_2','v2_2','v3_2','v4_2','v5_2','v6_2','v7_2','v8_2','v9_2',\n",
    "                                                          'v10_2','v11_2','v12_2','v13_2','v14_2','v15_2','v16_2','v17_2',\n",
    "                                                          'v18_2','v19_2','v20_2','v21_2','v22_2','v23_2','v24_2','v25_2',\n",
    "                                                          'v26_2','v27_2','v28_2','v29_2','v30_2'])\n",
    "        else:\n",
    "            df_embeds = pd.DataFrame(t_embeds, columns = ['v1_3','v2_3','v3_3','v4_3','v5_3','v6_3','v7_3','v8_3','v9_3','v10_3',\n",
    "                                                          'v11_3','v12_3','v13_3','v14_3','v15_3','v16_3','v17_3','v18_3','v19_3',\n",
    "                                                          'v20_3','v21_3','v22_3','v23_3','v24_3','v25_3','v26_3','v27_3',\n",
    "                                                          'v28_3','v29_3','v30_3'])\n",
    "        \n",
    "            \n",
    "        # join generated vectors to train/test data \n",
    "        df = pd.concat([df,df_embeds], axis = 1)\n",
    "        # drop unnecessary columns\n",
    "        df.drop([c,'cleaned'],axis=1,inplace = True)\n",
    "    return df\n",
    "\n",
    "train = get_vectors(train)\n",
    "test = get_vectors(test)"
   ]
  },
  {
   "cell_type": "markdown",
   "metadata": {},
   "source": [
    "## Model Building and Evaluation"
   ]
  },
  {
   "cell_type": "code",
   "execution_count": 216,
   "metadata": {},
   "outputs": [],
   "source": [
    "from sklearn.metrics import mean_squared_error, r2_score, make_scorer\n",
    "from sklearn.model_selection import train_test_split, KFold, ParameterGrid,GridSearchCV, RandomizedSearchCV, cross_val_score\n",
    "from sklearn.feature_selection import RFE, RFECV\n",
    "from sklearn.preprocessing import StandardScaler, LabelEncoder\n",
    "from sklearn.linear_model import LogisticRegression\n",
    "from sklearn.ensemble import RandomForestClassifier\n",
    "from xgboost import XGBClassifier"
   ]
  },
  {
   "cell_type": "code",
   "execution_count": 41,
   "metadata": {},
   "outputs": [],
   "source": [
    "# Separate Feature & target\n",
    "X = train.drop('overall', axis = 1)\n",
    "y = train['overall']\n",
    "\n",
    "# Standardize the Features\n",
    "ss = StandardScaler()\n",
    "X1 = ss.fit_transform(X)"
   ]
  },
  {
   "cell_type": "code",
   "execution_count": 42,
   "metadata": {},
   "outputs": [
    {
     "name": "stdout",
     "output_type": "stream",
     "text": [
      "Cross validation mean RMSE score\n",
      "For Linear Regression :  0.65\n",
      "For RandomForest :  0.58\n",
      "For XGBoost :  0.427\n"
     ]
    }
   ],
   "source": [
    "lr = LogisticRegression()\n",
    "rf = RandomForestClassifier(n_jobs=-1)\n",
    "xgb = XGBClassifier()\n",
    "\n",
    "print('Cross validation mean Accuracy score')\n",
    "lr_cv = cross_val_score(lr,X1,y,cv =5, scoring = 'accuracy').mean()\n",
    "print('For Logistic Regression : ',round(lr_cv,3))\n",
    "\n",
    "lr_rf = cross_val_score(rf,X1,y,cv = 5, scoring = 'accuracy').mean()\n",
    "print('For RandomForest : ',round(lr_rf,3))\n",
    "\n",
    "lr_xgb = cross_val_score(xgb,X1,y,cv = 5, scoring = 'accuracy').mean()\n",
    "print('For XGBoost : ',round(lr_xgb,3))\n"
   ]
  },
  {
   "cell_type": "markdown",
   "metadata": {},
   "source": [
    "### Over-samploing with respect to target because of class imbalance."
   ]
  },
  {
   "cell_type": "code",
   "execution_count": 225,
   "metadata": {},
   "outputs": [],
   "source": [
    "from imblearn.over_sampling import SMOTE, ADASYN\n",
    "from imblearn.combine import SMOTEENN, SMOTETomek"
   ]
  },
  {
   "cell_type": "code",
   "execution_count": 43,
   "metadata": {},
   "outputs": [],
   "source": [
    "sm = SMOTE(random_state = 2) \n",
    "X_res, y_res = sm.fit_sample(X, y) "
   ]
  },
  {
   "cell_type": "code",
   "execution_count": 45,
   "metadata": {},
   "outputs": [
    {
     "name": "stdout",
     "output_type": "stream",
     "text": [
      "Cross validation mean Accuracy score\n",
      "For Logistic Regression :  0.163\n",
      "For RandomForest :  0.734\n",
      "For XGBoost :  0.603\n"
     ]
    }
   ],
   "source": [
    "lr = LogisticRegression()\n",
    "rf = RandomForestClassifier(n_jobs=-1)\n",
    "xgb = XGBClassifier()\n",
    "\n",
    "print('Cross validation mean Accuracy score')\n",
    "lr_cv = cross_val_score(lr,X_res,y_res,cv =5, scoring = 'accuracy').mean()\n",
    "print('For Logistic Regression : ',round(lr_cv,3))\n",
    "\n",
    "lr_rf = cross_val_score(rf,X_res,y_res,cv = 5, scoring = 'accuracy').mean()\n",
    "print('For RandomForest : ',round(lr_rf,3))\n",
    "\n",
    "lr_xgb = cross_val_score(xgb,X_res,y_res,cv = 5, scoring = 'accuracy').mean()\n",
    "print('For XGBoost : ',round(lr_xgb,3))"
   ]
  },
  {
   "cell_type": "markdown",
   "metadata": {},
   "source": [
    "### Key take aways from over-sampling\n",
    "Non-Linear models suffered with imbalanced data set. After oversampling, Non-Linear models performed much better though there was a significant performance reduction for Logistic Regression model."
   ]
  },
  {
   "cell_type": "code",
   "execution_count": 55,
   "metadata": {},
   "outputs": [
    {
     "name": "stdout",
     "output_type": "stream",
     "text": [
      "{'n_estimators': [100, 150, 200], 'max_features': ['auto'], 'max_depth': [10, 12, 'none'], 'min_samples_split': [2], 'min_samples_leaf': [1, 2], 'bootstrap': [True, False]}\n"
     ]
    }
   ],
   "source": [
    "from sklearn.model_selection import RandomizedSearchCV\n",
    "\n",
    "n_estimators = [100,150,200]\n",
    "max_features = ['auto']\n",
    "max_depth = [10,12,'none']\n",
    "min_samples_split = [2]\n",
    "min_samples_leaf = [1,2]\n",
    "bootstrap = [True,False]\n",
    "random_grid = {'n_estimators': n_estimators,\n",
    "               'max_features': max_features,\n",
    "               'max_depth': max_depth,\n",
    "               'min_samples_split': min_samples_split,\n",
    "               'min_samples_leaf': min_samples_leaf,\n",
    "               'bootstrap': bootstrap}\n",
    "print(random_grid)"
   ]
  },
  {
   "cell_type": "code",
   "execution_count": 56,
   "metadata": {
    "scrolled": true
   },
   "outputs": [
    {
     "name": "stdout",
     "output_type": "stream",
     "text": [
      "Fitting 3 folds for each of 10 candidates, totalling 30 fits\n"
     ]
    },
    {
     "name": "stderr",
     "output_type": "stream",
     "text": [
      "[Parallel(n_jobs=-1)]: Using backend LokyBackend with 4 concurrent workers.\n",
      "[Parallel(n_jobs=-1)]: Done  30 out of  30 | elapsed:  4.7min finished\n"
     ]
    },
    {
     "data": {
      "text/plain": [
       "RandomizedSearchCV(cv=3, estimator=RandomForestClassifier(), n_jobs=-1,\n",
       "                   param_distributions={'bootstrap': [True, False],\n",
       "                                        'max_depth': [10, 12, 'none'],\n",
       "                                        'max_features': ['auto'],\n",
       "                                        'min_samples_leaf': [1, 2],\n",
       "                                        'min_samples_split': [2],\n",
       "                                        'n_estimators': [100, 150, 200]},\n",
       "                   random_state=42, scoring='accuracy', verbose=2)"
      ]
     },
     "execution_count": 56,
     "metadata": {},
     "output_type": "execute_result"
    }
   ],
   "source": [
    "# Use the Grid grid to search for best hyperparameters\n",
    "# First create the base model to tune\n",
    "rf = RandomForestClassifier()\n",
    "\n",
    "rf_random = RandomizedSearchCV(estimator = rf, param_distributions = random_grid, scoring = 'accuracy',\n",
    "                               cv = 3, verbose=2, random_state=42, n_jobs = -1)\n",
    "# Fit the random search model\n",
    "rf_random.fit(X_res, y_res)"
   ]
  },
  {
   "cell_type": "code",
   "execution_count": 226,
   "metadata": {},
   "outputs": [
    {
     "name": "stdout",
     "output_type": "stream",
     "text": [
      "Best Random Forest Tuning Score 0.6506948107293945\n",
      "Best Parameters :  {'n_estimators': 200, 'min_samples_split': 2, 'min_samples_leaf': 1, 'max_features': 'auto', 'max_depth': 12, 'bootstrap': True}\n"
     ]
    }
   ],
   "source": [
    "print('Best Random Forest Tuning Score',rf_random.best_score_)\n",
    "print('Best Parameters : ',rf_random.best_params_)"
   ]
  },
  {
   "cell_type": "markdown",
   "metadata": {},
   "source": [
    "## 6. Stacking\n",
    "Stacking Logistic regression, RandomForestClassifier & XGBClassifier."
   ]
  },
  {
   "cell_type": "code",
   "execution_count": 232,
   "metadata": {},
   "outputs": [
    {
     "name": "stdout",
     "output_type": "stream",
     "text": [
      "For Stacking Classifier :  0.766\n"
     ]
    }
   ],
   "source": [
    "# import StackingClassifier\n",
    "from sklearn.ensemble import StackingClassifier\n",
    "\n",
    "estimators = [\n",
    "    ('rf', RandomForestClassifier(n_estimators=10, random_state=42)),\n",
    "    ('xgb', XGBClassifier()),('lr', LogisticRegression())\n",
    "]\n",
    "clf = StackingClassifier(\n",
    "    estimators=estimators, final_estimator=LogisticRegression()\n",
    ")\n",
    "\n",
    "cv_stk = cross_val_score(clf,X_res,y_res,cv = 5, scoring = 'accuracy').mean()\n",
    "print('For Stacking Classifier : ',round(cv_stk,3))"
   ]
  },
  {
   "cell_type": "markdown",
   "metadata": {},
   "source": [
    "# Analysis\n",
    "1. Through over-sampling & stacking there was an improvement of around 18% in accuracy score.\n",
    "2. Stacking Logistic regression model with RandomForest and XGBoost produced the best classification result.\n",
    "3. To overcome the class imbalance between the 5 classes, synthetic minority over-sampling was performed after text vectorization which generated a considerable amount of synthetic data and also tremendously enchanced the accuracy score.\n",
    "4. I will update the models in future and try to implement new approach to attain even better performance."
   ]
  }
 ],
 "metadata": {
  "kernelspec": {
   "display_name": "Python 3",
   "language": "python",
   "name": "python3"
  },
  "language_info": {
   "codemirror_mode": {
    "name": "ipython",
    "version": 3
   },
   "file_extension": ".py",
   "mimetype": "text/x-python",
   "name": "python",
   "nbconvert_exporter": "python",
   "pygments_lexer": "ipython3",
   "version": "3.7.6"
  }
 },
 "nbformat": 4,
 "nbformat_minor": 4
}
